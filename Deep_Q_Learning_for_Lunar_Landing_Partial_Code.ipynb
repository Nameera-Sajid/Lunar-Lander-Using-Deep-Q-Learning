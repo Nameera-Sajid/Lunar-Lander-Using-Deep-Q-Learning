{
  "cells": [
    {
      "cell_type": "markdown",
      "metadata": {
        "id": "LbZcI9ZXHl3a"
      },
      "source": [
        "# Deep Q-Learning for Lunar Landing"
      ]
    },
    {
      "cell_type": "markdown",
      "metadata": {
        "id": "E8yPRjteXgPb"
      },
      "source": [
        "## Part 0 - Installing the required packages and importing the libraries"
      ]
    },
    {
      "cell_type": "markdown",
      "metadata": {
        "id": "slEm5teGWjWU"
      },
      "source": [
        "### Installing Gymnasium"
      ]
    },
    {
      "cell_type": "code",
      "execution_count": 1,
      "metadata": {
        "id": "dbnq3XpoKa_7",
        "outputId": "9b81b6f2-29b8-4f6b-a84c-668aad74b00e",
        "colab": {
          "base_uri": "https://localhost:8080/"
        }
      },
      "outputs": [
        {
          "output_type": "stream",
          "name": "stdout",
          "text": [
            "Collecting gymnasium\n",
            "  Downloading gymnasium-0.29.1-py3-none-any.whl (953 kB)\n",
            "\u001b[2K     \u001b[90m━━━━━━━━━━━━━━━━━━━━━━━━━━━━━━━━━━━━━━━━\u001b[0m \u001b[32m953.9/953.9 kB\u001b[0m \u001b[31m10.9 MB/s\u001b[0m eta \u001b[36m0:00:00\u001b[0m\n",
            "\u001b[?25hRequirement already satisfied: numpy>=1.21.0 in /usr/local/lib/python3.10/dist-packages (from gymnasium) (1.23.5)\n",
            "Requirement already satisfied: cloudpickle>=1.2.0 in /usr/local/lib/python3.10/dist-packages (from gymnasium) (2.2.1)\n",
            "Requirement already satisfied: typing-extensions>=4.3.0 in /usr/local/lib/python3.10/dist-packages (from gymnasium) (4.5.0)\n",
            "Collecting farama-notifications>=0.0.1 (from gymnasium)\n",
            "  Downloading Farama_Notifications-0.0.4-py3-none-any.whl (2.5 kB)\n",
            "Installing collected packages: farama-notifications, gymnasium\n",
            "Successfully installed farama-notifications-0.0.4 gymnasium-0.29.1\n",
            "Requirement already satisfied: gymnasium[accept-rom-license,atari] in /usr/local/lib/python3.10/dist-packages (0.29.1)\n",
            "Requirement already satisfied: numpy>=1.21.0 in /usr/local/lib/python3.10/dist-packages (from gymnasium[accept-rom-license,atari]) (1.23.5)\n",
            "Requirement already satisfied: cloudpickle>=1.2.0 in /usr/local/lib/python3.10/dist-packages (from gymnasium[accept-rom-license,atari]) (2.2.1)\n",
            "Requirement already satisfied: typing-extensions>=4.3.0 in /usr/local/lib/python3.10/dist-packages (from gymnasium[accept-rom-license,atari]) (4.5.0)\n",
            "Requirement already satisfied: farama-notifications>=0.0.1 in /usr/local/lib/python3.10/dist-packages (from gymnasium[accept-rom-license,atari]) (0.0.4)\n",
            "Collecting autorom[accept-rom-license]~=0.4.2 (from gymnasium[accept-rom-license,atari])\n",
            "  Downloading AutoROM-0.4.2-py3-none-any.whl (16 kB)\n",
            "Collecting shimmy[atari]<1.0,>=0.1.0 (from gymnasium[accept-rom-license,atari])\n",
            "  Downloading Shimmy-0.2.1-py3-none-any.whl (25 kB)\n",
            "Requirement already satisfied: click in /usr/local/lib/python3.10/dist-packages (from autorom[accept-rom-license]~=0.4.2->gymnasium[accept-rom-license,atari]) (8.1.7)\n",
            "Requirement already satisfied: requests in /usr/local/lib/python3.10/dist-packages (from autorom[accept-rom-license]~=0.4.2->gymnasium[accept-rom-license,atari]) (2.31.0)\n",
            "Requirement already satisfied: tqdm in /usr/local/lib/python3.10/dist-packages (from autorom[accept-rom-license]~=0.4.2->gymnasium[accept-rom-license,atari]) (4.66.1)\n",
            "Collecting AutoROM.accept-rom-license (from autorom[accept-rom-license]~=0.4.2->gymnasium[accept-rom-license,atari])\n",
            "  Downloading AutoROM.accept-rom-license-0.6.1.tar.gz (434 kB)\n",
            "\u001b[2K     \u001b[90m━━━━━━━━━━━━━━━━━━━━━━━━━━━━━━━━━━━━━━━━\u001b[0m \u001b[32m434.7/434.7 kB\u001b[0m \u001b[31m8.3 MB/s\u001b[0m eta \u001b[36m0:00:00\u001b[0m\n",
            "\u001b[?25h  Installing build dependencies ... \u001b[?25l\u001b[?25hdone\n",
            "  Getting requirements to build wheel ... \u001b[?25l\u001b[?25hdone\n",
            "  Preparing metadata (pyproject.toml) ... \u001b[?25l\u001b[?25hdone\n",
            "Collecting ale-py~=0.8.1 (from shimmy[atari]<1.0,>=0.1.0->gymnasium[accept-rom-license,atari])\n",
            "  Downloading ale_py-0.8.1-cp310-cp310-manylinux_2_17_x86_64.manylinux2014_x86_64.whl (1.7 MB)\n",
            "\u001b[2K     \u001b[90m━━━━━━━━━━━━━━━━━━━━━━━━━━━━━━━━━━━━━━━━\u001b[0m \u001b[32m1.7/1.7 MB\u001b[0m \u001b[31m40.1 MB/s\u001b[0m eta \u001b[36m0:00:00\u001b[0m\n",
            "\u001b[?25hRequirement already satisfied: importlib-resources in /usr/local/lib/python3.10/dist-packages (from ale-py~=0.8.1->shimmy[atari]<1.0,>=0.1.0->gymnasium[accept-rom-license,atari]) (6.1.1)\n",
            "Requirement already satisfied: charset-normalizer<4,>=2 in /usr/local/lib/python3.10/dist-packages (from requests->autorom[accept-rom-license]~=0.4.2->gymnasium[accept-rom-license,atari]) (3.3.2)\n",
            "Requirement already satisfied: idna<4,>=2.5 in /usr/local/lib/python3.10/dist-packages (from requests->autorom[accept-rom-license]~=0.4.2->gymnasium[accept-rom-license,atari]) (3.4)\n",
            "Requirement already satisfied: urllib3<3,>=1.21.1 in /usr/local/lib/python3.10/dist-packages (from requests->autorom[accept-rom-license]~=0.4.2->gymnasium[accept-rom-license,atari]) (2.0.7)\n",
            "Requirement already satisfied: certifi>=2017.4.17 in /usr/local/lib/python3.10/dist-packages (from requests->autorom[accept-rom-license]~=0.4.2->gymnasium[accept-rom-license,atari]) (2023.7.22)\n",
            "Building wheels for collected packages: AutoROM.accept-rom-license\n",
            "  Building wheel for AutoROM.accept-rom-license (pyproject.toml) ... \u001b[?25l\u001b[?25hdone\n",
            "  Created wheel for AutoROM.accept-rom-license: filename=AutoROM.accept_rom_license-0.6.1-py3-none-any.whl size=446660 sha256=ed7f7e425ec919b6963123fdd87e70c70d5c82899325a3be5c7e9c1269933cbe\n",
            "  Stored in directory: /root/.cache/pip/wheels/6b/1b/ef/a43ff1a2f1736d5711faa1ba4c1f61be1131b8899e6a057811\n",
            "Successfully built AutoROM.accept-rom-license\n",
            "Installing collected packages: ale-py, shimmy, AutoROM.accept-rom-license, autorom\n",
            "Successfully installed AutoROM.accept-rom-license-0.6.1 ale-py-0.8.1 autorom-0.4.2 shimmy-0.2.1\n",
            "Reading package lists... Done\n",
            "Building dependency tree... Done\n",
            "Reading state information... Done\n",
            "The following additional packages will be installed:\n",
            "  swig4.0\n",
            "Suggested packages:\n",
            "  swig-doc swig-examples swig4.0-examples swig4.0-doc\n",
            "The following NEW packages will be installed:\n",
            "  swig swig4.0\n",
            "0 upgraded, 2 newly installed, 0 to remove and 9 not upgraded.\n",
            "Need to get 1,116 kB of archives.\n",
            "After this operation, 5,542 kB of additional disk space will be used.\n",
            "Get:1 http://archive.ubuntu.com/ubuntu jammy/universe amd64 swig4.0 amd64 4.0.2-1ubuntu1 [1,110 kB]\n",
            "Get:2 http://archive.ubuntu.com/ubuntu jammy/universe amd64 swig all 4.0.2-1ubuntu1 [5,632 B]\n",
            "Fetched 1,116 kB in 1s (1,089 kB/s)\n",
            "Selecting previously unselected package swig4.0.\n",
            "(Reading database ... 120880 files and directories currently installed.)\n",
            "Preparing to unpack .../swig4.0_4.0.2-1ubuntu1_amd64.deb ...\n",
            "Unpacking swig4.0 (4.0.2-1ubuntu1) ...\n",
            "Selecting previously unselected package swig.\n",
            "Preparing to unpack .../swig_4.0.2-1ubuntu1_all.deb ...\n",
            "Unpacking swig (4.0.2-1ubuntu1) ...\n",
            "Setting up swig4.0 (4.0.2-1ubuntu1) ...\n",
            "Setting up swig (4.0.2-1ubuntu1) ...\n",
            "Processing triggers for man-db (2.10.2-1) ...\n",
            "Requirement already satisfied: gymnasium[box2d] in /usr/local/lib/python3.10/dist-packages (0.29.1)\n",
            "Requirement already satisfied: numpy>=1.21.0 in /usr/local/lib/python3.10/dist-packages (from gymnasium[box2d]) (1.23.5)\n",
            "Requirement already satisfied: cloudpickle>=1.2.0 in /usr/local/lib/python3.10/dist-packages (from gymnasium[box2d]) (2.2.1)\n",
            "Requirement already satisfied: typing-extensions>=4.3.0 in /usr/local/lib/python3.10/dist-packages (from gymnasium[box2d]) (4.5.0)\n",
            "Requirement already satisfied: farama-notifications>=0.0.1 in /usr/local/lib/python3.10/dist-packages (from gymnasium[box2d]) (0.0.4)\n",
            "Collecting box2d-py==2.3.5 (from gymnasium[box2d])\n",
            "  Downloading box2d-py-2.3.5.tar.gz (374 kB)\n",
            "\u001b[2K     \u001b[90m━━━━━━━━━━━━━━━━━━━━━━━━━━━━━━━━━━━━━━━━\u001b[0m \u001b[32m374.4/374.4 kB\u001b[0m \u001b[31m5.6 MB/s\u001b[0m eta \u001b[36m0:00:00\u001b[0m\n",
            "\u001b[?25h  Preparing metadata (setup.py) ... \u001b[?25l\u001b[?25hdone\n",
            "Requirement already satisfied: pygame>=2.1.3 in /usr/local/lib/python3.10/dist-packages (from gymnasium[box2d]) (2.5.2)\n",
            "Collecting swig==4.* (from gymnasium[box2d])\n",
            "  Downloading swig-4.1.1.post0-py2.py3-none-manylinux_2_5_x86_64.manylinux1_x86_64.whl (1.8 MB)\n",
            "\u001b[2K     \u001b[90m━━━━━━━━━━━━━━━━━━━━━━━━━━━━━━━━━━━━━━━━\u001b[0m \u001b[32m1.8/1.8 MB\u001b[0m \u001b[31m38.5 MB/s\u001b[0m eta \u001b[36m0:00:00\u001b[0m\n",
            "\u001b[?25hBuilding wheels for collected packages: box2d-py\n",
            "  Building wheel for box2d-py (setup.py) ... \u001b[?25l\u001b[?25hdone\n",
            "  Created wheel for box2d-py: filename=box2d_py-2.3.5-cp310-cp310-linux_x86_64.whl size=2349116 sha256=2701e507524453b2fd39c6131c83fdf2315ee2e2847ef17acd96a1ce1cf01485\n",
            "  Stored in directory: /root/.cache/pip/wheels/db/8f/6a/eaaadf056fba10a98d986f6dce954e6201ba3126926fc5ad9e\n",
            "Successfully built box2d-py\n",
            "Installing collected packages: swig, box2d-py\n",
            "Successfully installed box2d-py-2.3.5 swig-4.1.1.post0\n"
          ]
        }
      ],
      "source": [
        "!pip install gymnasium\n",
        "!pip install \"gymnasium[atari, accept-rom-license]\"\n",
        "!apt-get install -y swig\n",
        "!pip install gymnasium[box2d]"
      ]
    },
    {
      "cell_type": "markdown",
      "metadata": {
        "id": "brqiMN3UW9T9"
      },
      "source": [
        "### Importing the libraries"
      ]
    },
    {
      "cell_type": "code",
      "execution_count": 2,
      "metadata": {
        "id": "mZaKXP_aMl9O"
      },
      "outputs": [],
      "source": [
        "import os\n",
        "import random\n",
        "import numpy as np\n",
        "import torch\n",
        "import torch.nn as nn\n",
        "import torch.optim as optim\n",
        "import torch.nn.functional as F\n",
        "import torch.autograd as autograd\n",
        "from torch.autograd import Variable\n",
        "from collections import deque, namedtuple"
      ]
    },
    {
      "cell_type": "markdown",
      "metadata": {
        "id": "EzlDKXvkXzGI"
      },
      "source": [
        "## Part 1 - Building the AI"
      ]
    },
    {
      "cell_type": "markdown",
      "metadata": {
        "id": "UtG6Zc83YYy3"
      },
      "source": [
        "### Creating the architecture of the Neural Network"
      ]
    },
    {
      "cell_type": "code",
      "source": [
        "class Network(nn.Module):\n",
        "\n",
        "  def __init__(self, state_size, action_size, seed = 42):\n",
        "    super(Network, self).__init__()\n",
        "    self.seed = torch.manual_seed(seed)\n",
        "    self.fc1 = nn.Linear(state_size, 64)\n",
        "    self.fc2 = nn.Linear(64, 64)\n",
        "    self.fc3 = nn.Linear(64, action_size)\n",
        "\n",
        "  def forward(self, state):\n",
        "    x = self.fc1(state)\n",
        "    x = F.relu(x)\n",
        "    x = self.fc2(x)\n",
        "    x = F.relu(x)\n",
        "    return self.fc3(x)"
      ],
      "metadata": {
        "id": "mGVRR6BlY_Br"
      },
      "execution_count": 4,
      "outputs": []
    },
    {
      "cell_type": "markdown",
      "metadata": {
        "id": "UxVrBnFWZKb1"
      },
      "source": [
        "## Part 2 - Training the AI"
      ]
    },
    {
      "cell_type": "markdown",
      "metadata": {
        "id": "T364fz9qZb2j"
      },
      "source": [
        "### Setting up the environment"
      ]
    },
    {
      "cell_type": "code",
      "source": [
        "import gymnasium as gym\n",
        "env = gym.make('LunarLander-v2')\n",
        "state_shape = env.observation_space.shape\n",
        "state_size = env.observation_space.shape[0]\n",
        "number_actions = env.action_space.n\n",
        "print('State shape: ', state_shape)\n",
        "print('State size: ', state_size)\n",
        "print('Number of actions: ', number_actions)"
      ],
      "metadata": {
        "id": "7-uTvKPwZQ1V",
        "outputId": "56801611-cc73-4c72-9ebc-41318293d5c1",
        "colab": {
          "base_uri": "https://localhost:8080/"
        }
      },
      "execution_count": 5,
      "outputs": [
        {
          "output_type": "stream",
          "name": "stdout",
          "text": [
            "State shape:  (8,)\n",
            "State size:  8\n",
            "Number of actions:  4\n"
          ]
        }
      ]
    },
    {
      "cell_type": "markdown",
      "metadata": {
        "id": "c_dZmOIvZgj-"
      },
      "source": [
        "### Initializing the hyperparameters"
      ]
    },
    {
      "cell_type": "code",
      "source": [
        "learning_rate = 5e-4\n",
        "minibatch_size = 100\n",
        "discount_factor = 0.99\n",
        "replay_buffer_size = int(1e5)\n",
        "interpolation_parameter = 1e-3"
      ],
      "metadata": {
        "id": "ST09WIP5ZXCi"
      },
      "execution_count": 6,
      "outputs": []
    },
    {
      "cell_type": "markdown",
      "metadata": {
        "id": "8hD_Vs-bYnip"
      },
      "source": [
        "### Implementing Experience Replay"
      ]
    },
    {
      "cell_type": "code",
      "source": [
        "class ReplayMemory(object):\n",
        "\n",
        "  def __init__(self, capacity):\n",
        "    self.device = torch.device(\"cuda:0\" if torch.cuda.is_available() else \"cpu\")\n",
        "    self.capacity = capacity\n",
        "    self.memory = []\n",
        "\n",
        "  def push(self, event):\n",
        "    self.memory.append(event)\n",
        "    if len(self.memory) > self.capacity:\n",
        "      del self.memory[0]\n",
        "\n",
        "  def sample(self, batch_size):\n",
        "    experiences = random.sample(self.memory, k = batch_size)\n",
        "    states = torch.from_numpy(np.vstack([e[0] for e in experiences if e is not None])).float().to(self.device)\n",
        "    actions = torch.from_numpy(np.vstack([e[1] for e in experiences if e is not None])).long().to(self.device)\n",
        "    rewards = torch.from_numpy(np.vstack([e[2] for e in experiences if e is not None])).float().to(self.device)\n",
        "    next_states = torch.from_numpy(np.vstack([e[3] for e in experiences if e is not None])).float().to(self.device)\n",
        "    dones = torch.from_numpy(np.vstack([e[4] for e in experiences if e is not None]).astype(np.uint8)).float().to(self.device)\n",
        "    return states, next_states, actions, rewards, dones"
      ],
      "metadata": {
        "id": "e0DRUW9EZx2t"
      },
      "execution_count": 7,
      "outputs": []
    },
    {
      "cell_type": "markdown",
      "metadata": {
        "id": "JmEkbFbUY6Jt"
      },
      "source": [
        "### Implementing the DQN class"
      ]
    },
    {
      "cell_type": "code",
      "source": [
        "class Agent():\n",
        "\n",
        "  def __init__(self, state_size, action_size):\n",
        "    self.device = torch.device(\"cuda:0\" if torch.cuda.is_available() else \"cpu\")\n",
        "    self.state_size = state_size\n",
        "    self.action_size = action_size\n",
        "    self.local_qnetwork = Network(state_size, action_size).to(self.device)\n",
        "    self.target_qnetwork = Network(state_size, action_size).to(self.device)\n",
        "    self.optimizer = optim.Adam(self.local_qnetwork.parameters(), lr = learning_rate)\n",
        "    self.memory = ReplayMemory(replay_buffer_size)\n",
        "    self.t_step = 0\n",
        "\n",
        "  def step(self, state, action, reward, next_state, done):\n",
        "    self.memory.push((state, action, reward, next_state, done))\n",
        "    self.t_step = (self.t_step + 1) % 4\n",
        "    if self.t_step == 0:\n",
        "      if len(self.memory.memory) > minibatch_size:\n",
        "        experiences = self.memory.sample(100)\n",
        "        self.learn(experiences, discount_factor)\n",
        "\n",
        "  def act(self, state, epsilon = 0.):\n",
        "    state = torch.from_numpy(state).float().unsqueeze(0).to(self.device)\n",
        "    self.local_qnetwork.eval()\n",
        "    with torch.no_grad():\n",
        "      action_values = self.local_qnetwork(state)\n",
        "    self.local_qnetwork.train()\n",
        "    if random.random() > epsilon:\n",
        "      return np.argmax(action_values.cpu().data.numpy())\n",
        "    else:\n",
        "      return random.choice(np.arange(self.action_size))\n",
        "\n",
        "  def learn(self, experiences, discount_factor):\n",
        "    states, next_states, actions, rewards, dones = experiences\n",
        "    next_q_targets = self.target_qnetwork(next_states).detach().max(1)[0].unsqueeze(1)\n",
        "    q_targets = rewards + discount_factor * next_q_targets * (1 - dones)\n",
        "    q_expected = self.local_qnetwork(states).gather(1, actions)\n",
        "    loss = F.mse_loss(q_expected, q_targets)\n",
        "    self.optimizer.zero_grad()\n",
        "    loss.backward()\n",
        "    self.optimizer.step()\n",
        "    self.soft_update(self.local_qnetwork, self.target_qnetwork, interpolation_parameter)\n",
        "\n",
        "  def soft_update(self, local_model, target_model, interpolation_parameter):\n",
        "    for target_param, local_param in zip(target_model.parameters(), local_model.parameters()):\n",
        "      target_param.data.copy_(interpolation_parameter * local_param.data + (1.0 - interpolation_parameter) * target_param.data)"
      ],
      "metadata": {
        "id": "yHJ5e5TAaiKN"
      },
      "execution_count": 8,
      "outputs": []
    },
    {
      "cell_type": "markdown",
      "metadata": {
        "id": "o1tZElccZmf6"
      },
      "source": [
        "### Initializing the DQN agent"
      ]
    },
    {
      "cell_type": "code",
      "source": [
        "agent = Agent(state_size, number_actions)"
      ],
      "metadata": {
        "id": "5GP64O-5bYQF",
        "outputId": "01f69eda-b679-4617-c7bc-54540eadccbe",
        "colab": {
          "base_uri": "https://localhost:8080/"
        }
      },
      "execution_count": 9,
      "outputs": [
        {
          "output_type": "stream",
          "name": "stderr",
          "text": [
            "/usr/local/lib/python3.10/dist-packages/ipykernel/ipkernel.py:283: DeprecationWarning: `should_run_async` will not call `transform_cell` automatically in the future. Please pass the result to `transformed_cell` argument and any exception that happen during thetransform in `preprocessing_exc_tuple` in IPython 7.17 and above.\n",
            "  and should_run_async(code)\n"
          ]
        }
      ]
    },
    {
      "cell_type": "markdown",
      "metadata": {
        "id": "E8v0PtUfaVQp"
      },
      "source": [
        "### Training the DQN agent"
      ]
    },
    {
      "cell_type": "code",
      "source": [
        "number_episodes = 2000\n",
        "maximum_number_timesteps_per_episode = 1000\n",
        "epsilon_starting_value  = 1.0\n",
        "epsilon_ending_value  = 0.01\n",
        "epsilon_decay_value  = 0.995\n",
        "epsilon = epsilon_starting_value\n",
        "scores_on_100_episodes = deque(maxlen = 100)\n",
        "\n",
        "for episode in range(1, number_episodes + 1):\n",
        "  state, _ = env.reset()\n",
        "  score = 0\n",
        "  for t in range(maximum_number_timesteps_per_episode):\n",
        "    action = agent.act(state, epsilon)\n",
        "    next_state, reward, done, _, _ = env.step(action)\n",
        "    agent.step(state, action, reward, next_state, done)\n",
        "    state = next_state\n",
        "    score += reward\n",
        "    if done:\n",
        "      break\n",
        "  scores_on_100_episodes.append(score)\n",
        "  epsilon = max(epsilon_ending_value, epsilon_decay_value * epsilon)\n",
        "  print('\\rEpisode {}\\tAverage Score: {:.2f}'.format(episode, np.mean(scores_on_100_episodes)), end = \"\")\n",
        "  if episode % 100 == 0:\n",
        "    print('\\rEpisode {}\\tAverage Score: {:.2f}'.format(episode, np.mean(scores_on_100_episodes)))\n",
        "  if np.mean(scores_on_100_episodes) >= 200.0:\n",
        "    print('\\nEnvironment solved in {:d} episodes!\\tAverage Score: {:.2f}'.format(episode - 100, np.mean(scores_on_100_episodes)))\n",
        "    torch.save(agent.local_qnetwork.state_dict(), 'checkpoint.pth')\n",
        "    break"
      ],
      "metadata": {
        "id": "bip0zOUybkbk",
        "outputId": "115f61af-b8ae-4f0c-8527-90675b57ba07",
        "colab": {
          "base_uri": "https://localhost:8080/"
        }
      },
      "execution_count": 10,
      "outputs": [
        {
          "output_type": "stream",
          "name": "stdout",
          "text": [
            "Episode 100\tAverage Score: -162.20\n",
            "Episode 200\tAverage Score: -110.79\n",
            "Episode 300\tAverage Score: -77.69\n",
            "Episode 400\tAverage Score: -16.46\n",
            "Episode 500\tAverage Score: 106.54\n",
            "Episode 586\tAverage Score: 200.45\n",
            "Environment solved in 486 episodes!\tAverage Score: 200.45\n"
          ]
        }
      ]
    },
    {
      "cell_type": "markdown",
      "metadata": {
        "id": "O8CNwdOTcCoP"
      },
      "source": [
        "## Part 3 - Visualizing the results"
      ]
    },
    {
      "cell_type": "code",
      "execution_count": 11,
      "metadata": {
        "id": "cb9nVvU2Okhk",
        "outputId": "9e828277-64c4-4cd9-b5f5-c2bcd49a7c5e",
        "colab": {
          "base_uri": "https://localhost:8080/",
          "height": 459
        }
      },
      "outputs": [
        {
          "output_type": "stream",
          "name": "stderr",
          "text": [
            "WARNING:imageio_ffmpeg:IMAGEIO FFMPEG_WRITER WARNING: input image is not divisible by macro_block_size=16, resizing from (600, 400) to (608, 400) to ensure video compatibility with most codecs and players. To prevent resizing, make your input image divisible by the macro_block_size or set the macro_block_size to 1 (risking incompatibility).\n"
          ]
        },
        {
          "output_type": "display_data",
          "data": {
            "text/plain": [
              "<IPython.core.display.HTML object>"
            ],
            "text/html": [
              "<video alt=\"test\" autoplay\n",
              "                loop controls style=\"height: 400px;\">\n",
              "                <source src=\"data:video/mp4;base64,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\" type=\"video/mp4\" />\n",
              "             </video>"
            ]
          },
          "metadata": {}
        }
      ],
      "source": [
        "import glob\n",
        "import io\n",
        "import base64\n",
        "import imageio\n",
        "from IPython.display import HTML, display\n",
        "from gym.wrappers.monitoring.video_recorder import VideoRecorder\n",
        "\n",
        "def show_video_of_model(agent, env_name):\n",
        "    env = gym.make(env_name, render_mode='rgb_array')\n",
        "    state, _ = env.reset()\n",
        "    done = False\n",
        "    frames = []\n",
        "    while not done:\n",
        "        frame = env.render()\n",
        "        frames.append(frame)\n",
        "        action = agent.act(state)\n",
        "        state, reward, done, _, _ = env.step(action.item())\n",
        "    env.close()\n",
        "    imageio.mimsave('video.mp4', frames, fps=30)\n",
        "\n",
        "show_video_of_model(agent, 'LunarLander-v2')\n",
        "\n",
        "def show_video():\n",
        "    mp4list = glob.glob('*.mp4')\n",
        "    if len(mp4list) > 0:\n",
        "        mp4 = mp4list[0]\n",
        "        video = io.open(mp4, 'r+b').read()\n",
        "        encoded = base64.b64encode(video)\n",
        "        display(HTML(data='''<video alt=\"test\" autoplay\n",
        "                loop controls style=\"height: 400px;\">\n",
        "                <source src=\"data:video/mp4;base64,{0}\" type=\"video/mp4\" />\n",
        "             </video>'''.format(encoded.decode('ascii'))))\n",
        "    else:\n",
        "        print(\"Could not find video\")\n",
        "\n",
        "show_video()"
      ]
    }
  ],
  "metadata": {
    "colab": {
      "provenance": []
    },
    "kernelspec": {
      "display_name": "Python 3",
      "name": "python3"
    },
    "language_info": {
      "name": "python"
    }
  },
  "nbformat": 4,
  "nbformat_minor": 0
}